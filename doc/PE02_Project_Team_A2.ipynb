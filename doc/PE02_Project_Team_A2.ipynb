{
 "cells": [
  {
   "cell_type": "markdown",
   "id": "bbd68981",
   "metadata": {},
   "source": [
    "# Programming for Engineers 2 - Team A2 Project\n",
    "This python project is a tool to analyze measured data of wafers. \n",
    "It can plot and save graphs for any data you want, and also save xlsx files.\n",
    "\n",
    "***\n",
    "\n",
    "## Index\n",
    "1. [Introduction](#1.-Introduction)\n",
    "2. [Structure of the program](#2.-Structure-of-the-program)\n",
    "3. [How to launch the program](#3.-How-to-launch-the-program)\n",
    "4. [Example of analysis result](#4.-Example-of-analysis-result)\n",
    "5. [Results of all wafer data analysis](#5.-Results-of-all-wafer-data-analysis)\n",
    "\n",
    "***"
   ]
  },
  {
   "cell_type": "markdown",
   "id": "92e202f2",
   "metadata": {},
   "source": [
    "## 1. Introduction\n",
    "\n",
    "\n",
    "\n",
    "***"
   ]
  },
  {
   "cell_type": "markdown",
   "id": "69efe8c4",
   "metadata": {},
   "source": [
    "## 2. Structure of the program\n",
    "\n",
    "\n",
    "\n",
    "***"
   ]
  },
  {
   "cell_type": "markdown",
   "id": "81511254",
   "metadata": {},
   "source": [
    "## 3. How to launch the program\n",
    "\n",
    "\n",
    "\n",
    "***"
   ]
  },
  {
   "cell_type": "markdown",
   "id": "35d79e77",
   "metadata": {},
   "source": [
    "## 4. Example of analysis result\n",
    "\n",
    "\n",
    "\n",
    "***"
   ]
  },
  {
   "cell_type": "markdown",
   "id": "818465ae",
   "metadata": {},
   "source": [
    "## 5. Results of all wafer data analysis\n",
    "\n",
    "\n",
    "\n",
    "***"
   ]
  },
  {
   "cell_type": "markdown",
   "id": "364ce377",
   "metadata": {},
   "source": [
    "Thank you :)"
   ]
  }
 ],
 "metadata": {
  "kernelspec": {
   "display_name": "Python 3",
   "language": "python",
   "name": "python3"
  },
  "language_info": {
   "codemirror_mode": {
    "name": "ipython",
    "version": 3
   },
   "file_extension": ".py",
   "mimetype": "text/x-python",
   "name": "python",
   "nbconvert_exporter": "python",
   "pygments_lexer": "ipython3",
   "version": "3.8.8"
  }
 },
 "nbformat": 4,
 "nbformat_minor": 5
}
